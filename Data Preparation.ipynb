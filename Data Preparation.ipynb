{
 "cells": [
  {
   "cell_type": "code",
   "execution_count": 1,
   "id": "fac917c0",
   "metadata": {},
   "outputs": [],
   "source": [
    "import pandas as pd\n",
    "import pyspark"
   ]
  },
  {
   "cell_type": "code",
   "execution_count": 2,
   "id": "04ca0485",
   "metadata": {},
   "outputs": [],
   "source": [
    "import numpy as np\n",
    "import pandas as pd\n",
    "import matplotlib.pyplot as plt\n",
    "import seaborn as sns\n",
    "import warnings\n",
    "from scipy.stats import skew,norm,zscore\n",
    "from scipy.signal import periodogram\n",
    "\n"
   ]
  },
  {
   "cell_type": "code",
   "execution_count": 3,
   "id": "a0c1b38d",
   "metadata": {},
   "outputs": [],
   "source": [
    "from pyspark.sql import SparkSession\n",
    "import pyspark.sql.functions as F\n",
    "from pyspark import SparkContext"
   ]
  },
  {
   "cell_type": "code",
   "execution_count": 4,
   "id": "0bb4f73d",
   "metadata": {},
   "outputs": [],
   "source": [
    "spark = SparkSession.builder.appName(\"app1\").getOrCreate()"
   ]
  },
  {
   "cell_type": "code",
   "execution_count": 5,
   "id": "ff6f5ca2",
   "metadata": {
    "scrolled": true
   },
   "outputs": [
    {
     "data": {
      "text/plain": [
       "'3.3.0'"
      ]
     },
     "execution_count": 5,
     "metadata": {},
     "output_type": "execute_result"
    }
   ],
   "source": [
    "spark.version"
   ]
  },
  {
   "cell_type": "code",
   "execution_count": 6,
   "id": "8d5d2504",
   "metadata": {},
   "outputs": [],
   "source": [
    "import matplotlib.pyplot as plt\n",
    "import matplotlib\n",
    "plt.style.use('default')\n",
    "plt.rcParams[\"figure.figsize\"] = (20,15)\n",
    "matplotlib.rcParams['axes.labelsize'] = 14\n",
    "matplotlib.rcParams['xtick.labelsize'] = 12\n",
    "matplotlib.rcParams['ytick.labelsize'] = 12\n",
    "matplotlib.rcParams['text.color'] = 'k'"
   ]
  },
  {
   "cell_type": "markdown",
   "id": "a2366db3",
   "metadata": {},
   "source": [
    "# Importing Data"
   ]
  },
  {
   "cell_type": "code",
   "execution_count": 7,
   "id": "6802aa3d",
   "metadata": {},
   "outputs": [],
   "source": [
    "orig_holidays_events = spark.read.csv('./store-sales-time-series-forecasting/holidays_events.csv')\n",
    "orig_oil = pd.read_csv('./store-sales-time-series-forecasting/oil.csv')\n",
    "orig_stores = spark.read.csv('./store-sales-time-series-forecasting/stores.csv')\n",
    "orig_transactions = spark.read.csv('./store-sales-time-series-forecasting/transactions.csv')\n",
    "orig_train = spark.read.csv('./store-sales-time-series-forecasting/train.csv')\n",
    "orig_test = spark.read.csv('./store-sales-time-series-forecasting/test.csv')\n",
    "sample_submission = spark.read.csv('./store-sales-time-series-forecasting/sample_submission.csv')"
   ]
  },
  {
   "cell_type": "markdown",
   "id": "ac1f8bae",
   "metadata": {},
   "source": [
    "# Fixing headers"
   ]
  },
  {
   "cell_type": "code",
   "execution_count": 8,
   "id": "516d1a05",
   "metadata": {},
   "outputs": [],
   "source": [
    "def header_df(df):\n",
    "    first_row=df.first()\n",
    "    for i in range(len(first_row)):\n",
    "        df=df.withColumnRenamed('_c'+str(i),first_row[i])\n",
    "    return(df)"
   ]
  },
  {
   "cell_type": "code",
   "execution_count": 9,
   "id": "84a6930d",
   "metadata": {},
   "outputs": [],
   "source": [
    "orig_holidays_events=header_df(orig_holidays_events)"
   ]
  },
  {
   "cell_type": "code",
   "execution_count": 10,
   "id": "4109ee06",
   "metadata": {
    "jupyter": {
     "source_hidden": true
    },
    "tags": []
   },
   "outputs": [],
   "source": [
    "orig_holidays_events=orig_holidays_events.filter((orig_holidays_events.date != 'date') & (orig_holidays_events.type != 'type') & (orig_holidays_events.locale_name != 'locale_name') & (orig_holidays_events.description != 'description') & (orig_holidays_events.transferred != 'transferred'))"
   ]
  },
  {
   "cell_type": "code",
   "execution_count": 11,
   "id": "f1f58767",
   "metadata": {},
   "outputs": [],
   "source": [
    "orig_stores=header_df(orig_stores)"
   ]
  },
  {
   "cell_type": "code",
   "execution_count": 12,
   "id": "aca3d8c5",
   "metadata": {
    "jupyter": {
     "source_hidden": true
    },
    "tags": []
   },
   "outputs": [],
   "source": [
    "orig_stores=orig_stores.filter((orig_stores.store_nbr != 'store_nbr') & (orig_stores.city != 'city')& (orig_stores.state != 'state') & (orig_stores.type != 'type')& (orig_stores.cluster != 'cluster') )"
   ]
  },
  {
   "cell_type": "code",
   "execution_count": 13,
   "id": "8d9e8764",
   "metadata": {},
   "outputs": [],
   "source": [
    "orig_transactions=header_df(orig_transactions)"
   ]
  },
  {
   "cell_type": "code",
   "execution_count": 14,
   "id": "6037477f",
   "metadata": {
    "jupyter": {
     "source_hidden": true
    },
    "tags": []
   },
   "outputs": [],
   "source": [
    "orig_transactions=orig_transactions.filter((orig_transactions.store_nbr != 'store_nbr') & (orig_transactions.date != 'date')& (orig_transactions.transactions != 'transactions'))"
   ]
  },
  {
   "cell_type": "code",
   "execution_count": 15,
   "id": "ade9328d",
   "metadata": {},
   "outputs": [],
   "source": [
    "orig_train=header_df(orig_train)"
   ]
  },
  {
   "cell_type": "code",
   "execution_count": 16,
   "id": "d8ddf345",
   "metadata": {
    "jupyter": {
     "source_hidden": true
    },
    "tags": []
   },
   "outputs": [],
   "source": [
    "orig_train=orig_train.filter((orig_train.id != 'id') & (orig_train.date != 'date') & (orig_train.store_nbr != 'store_nbr') & (orig_train.family != 'family') & (orig_train.sales != 'sales') & (orig_train.onpromotion != 'onpromotion'))"
   ]
  },
  {
   "cell_type": "code",
   "execution_count": 17,
   "id": "a05b1497",
   "metadata": {},
   "outputs": [],
   "source": [
    "orig_test=header_df(orig_test)"
   ]
  },
  {
   "cell_type": "code",
   "execution_count": 18,
   "id": "8d7660fa",
   "metadata": {
    "jupyter": {
     "source_hidden": true
    },
    "tags": []
   },
   "outputs": [],
   "source": [
    "orig_test=orig_test.filter((orig_test.id != 'id') & (orig_test.date != 'date') & (orig_test.store_nbr != 'store_nbr') & (orig_test.family != 'family')& (orig_test.onpromotion != 'onpromotion'))"
   ]
  },
  {
   "cell_type": "code",
   "execution_count": 19,
   "id": "22f6f8a8",
   "metadata": {},
   "outputs": [],
   "source": [
    "sample_submission=header_df(sample_submission)"
   ]
  },
  {
   "cell_type": "code",
   "execution_count": 20,
   "id": "d289089f",
   "metadata": {
    "jupyter": {
     "source_hidden": true
    },
    "tags": []
   },
   "outputs": [],
   "source": [
    "sample_submission=sample_submission.filter((sample_submission.id !='id') & (sample_submission.sales != 'sales'))"
   ]
  },
  {
   "cell_type": "markdown",
   "id": "e0c600a2",
   "metadata": {},
   "source": [
    "# Adding features to stores data for stores added in last year"
   ]
  },
  {
   "cell_type": "code",
   "execution_count": 21,
   "id": "780dcbf4",
   "metadata": {
    "jupyter": {
     "source_hidden": true
    },
    "tags": []
   },
   "outputs": [],
   "source": [
    "final_df=orig_stores.alias('final_df')\n",
    "final_df=final_df.withColumn('uniquestore',\\\n",
    "                             F.when(F.col('city').isin(['Quito', 'Guayaquil', 'Santo Domingo', 'Cuenca', 'Manta', 'Machala', 'Latacunga', 'Ambato']),0)\\\n",
    "                             .otherwise(1))\n"
   ]
  },
  {
   "cell_type": "code",
   "execution_count": 22,
   "id": "a3cd4da9",
   "metadata": {},
   "outputs": [],
   "source": [
    "final_df=final_df\\\n",
    ".withColumn('newstore',F.when(F.col('store_nbr').isin(['19', '20', '21', '28', '35', '41', '51', '52']),1).otherwise(0))"
   ]
  },
  {
   "cell_type": "markdown",
   "id": "04bb9339",
   "metadata": {},
   "source": [
    "#  Joining stores and [train,test]"
   ]
  },
  {
   "cell_type": "code",
   "execution_count": 24,
   "id": "20166161",
   "metadata": {},
   "outputs": [],
   "source": [
    "orig_test=orig_test.withColumn('sales',F.lit(None)).select('id', 'date', 'store_nbr', 'family', 'sales', 'onpromotion')"
   ]
  },
  {
   "cell_type": "code",
   "execution_count": 25,
   "id": "f3292af4",
   "metadata": {},
   "outputs": [],
   "source": [
    "final_df=orig_train.union(orig_test).join(final_df, on=['store_nbr'], how='left').withColumnRenamed('type', 'store')"
   ]
  },
  {
   "cell_type": "markdown",
   "id": "e332dc08",
   "metadata": {},
   "source": [
    "# Events"
   ]
  },
  {
   "cell_type": "markdown",
   "id": "e6e59d89",
   "metadata": {},
   "source": [
    "## Non transferred events  : Correcting New year which is marked as transferred in 2017"
   ]
  },
  {
   "cell_type": "code",
   "execution_count": 26,
   "id": "daca6be9",
   "metadata": {},
   "outputs": [],
   "source": [
    "orig_holidays_events=orig_holidays_events.withColumn('transferred',F.when(F.col('date')=='2017-01-01','False').otherwise(F.col('transferred')))"
   ]
  },
  {
   "cell_type": "markdown",
   "id": "b8f21bad",
   "metadata": {},
   "source": [
    "## Removing Duplicates "
   ]
  },
  {
   "cell_type": "code",
   "execution_count": 27,
   "id": "f012b2b8",
   "metadata": {},
   "outputs": [],
   "source": [
    "orig_holidays_events=orig_holidays_events.dropDuplicates()"
   ]
  },
  {
   "cell_type": "markdown",
   "id": "e069209f",
   "metadata": {},
   "source": [
    "## Adding event type "
   ]
  },
  {
   "cell_type": "code",
   "execution_count": 28,
   "id": "3ceaa550",
   "metadata": {},
   "outputs": [],
   "source": [
    "orig_holidays_events=orig_holidays_events.withColumn('type',F.when(F.col('type')=='Event',F.col('description')[0:7])\\\n",
    "                                                     .otherwise(F.col('type')))"
   ]
  },
  {
   "cell_type": "markdown",
   "id": "7dc1b54e",
   "metadata": {},
   "source": [
    "##  Merging orig_holidays_events and final_df "
   ]
  },
  {
   "cell_type": "code",
   "execution_count": 29,
   "id": "a5292ed1",
   "metadata": {},
   "outputs": [],
   "source": [
    "nat_df=orig_holidays_events.filter(F.col('locale')=='National')\n",
    "loc_df=orig_holidays_events.filter(F.col('locale')=='Local')\n",
    "reg_df=orig_holidays_events.filter(F.col('locale')=='Regional')"
   ]
  },
  {
   "cell_type": "markdown",
   "id": "4a484e54",
   "metadata": {},
   "source": [
    "### Merging national holidays, key = 'date' "
   ]
  },
  {
   "cell_type": "code",
   "execution_count": 30,
   "id": "4e81cc5d",
   "metadata": {},
   "outputs": [],
   "source": [
    "final_df_nat=final_df.join(nat_df,on='date',how='inner')"
   ]
  },
  {
   "cell_type": "markdown",
   "id": "c212172b",
   "metadata": {},
   "source": [
    "### Merging local holidays key = ['date,'city'] with locale name = 'city' "
   ]
  },
  {
   "cell_type": "code",
   "execution_count": 31,
   "id": "a985eca3",
   "metadata": {},
   "outputs": [],
   "source": [
    "loc_df=loc_df.withColumn('city',F.col('locale_name'))"
   ]
  },
  {
   "cell_type": "code",
   "execution_count": 32,
   "id": "ac09c962",
   "metadata": {},
   "outputs": [],
   "source": [
    "final_df_loc=final_df.join(loc_df,on=['date','city'],how='inner')"
   ]
  },
  {
   "cell_type": "markdown",
   "id": "e3cc51be",
   "metadata": {},
   "source": [
    "###  Merging regional holidays with key = ['date','state'] with locale name = 'state'"
   ]
  },
  {
   "cell_type": "code",
   "execution_count": 33,
   "id": "28643f4e",
   "metadata": {},
   "outputs": [],
   "source": [
    "reg_df=reg_df.withColumn('state',F.col('locale_name'))\n",
    "final_df_reg=final_df.join(reg_df,on=['date','state'],how='inner')"
   ]
  },
  {
   "cell_type": "markdown",
   "id": "9a4a1f82",
   "metadata": {},
   "source": [
    "### Adding the no holiday info "
   ]
  },
  {
   "cell_type": "code",
   "execution_count": 34,
   "id": "ed439844",
   "metadata": {},
   "outputs": [],
   "source": [
    "data_holiday=final_df_nat.union(final_df_loc).union(final_df_reg).orderBy('date')"
   ]
  },
  {
   "cell_type": "code",
   "execution_count": 35,
   "id": "7c9e43d6",
   "metadata": {},
   "outputs": [],
   "source": [
    "data_holiday_n= final_df.join(data_holiday,on=final_df.columns,how='left')"
   ]
  },
  {
   "cell_type": "code",
   "execution_count": 36,
   "id": "f4fd7068",
   "metadata": {},
   "outputs": [],
   "source": [
    "data_holiday_n=data_holiday_n.withColumnRenamed('type','event_type')\n"
   ]
  },
  {
   "cell_type": "markdown",
   "id": "ef872133",
   "metadata": {},
   "source": [
    "### Marking no holiday event as Normal Day"
   ]
  },
  {
   "cell_type": "code",
   "execution_count": 37,
   "id": "16ec75a7",
   "metadata": {},
   "outputs": [],
   "source": [
    "data_holiday_n = data_holiday_n.withColumn('event_type',F.when(F.col('event_type').isNull(),'Normal Day').otherwise(F.col('event_type')))"
   ]
  },
  {
   "cell_type": "markdown",
   "id": "b8de0c75",
   "metadata": {},
   "source": [
    "## Adding New Year holiday "
   ]
  },
  {
   "cell_type": "code",
   "execution_count": 38,
   "id": "5edcfeac",
   "metadata": {},
   "outputs": [],
   "source": [
    "data_holiday_ny=data_holiday_n.withColumn('firstday',F.when(F.col('description')=='Primer dia del ano',1).otherwise(0))"
   ]
  },
  {
   "cell_type": "markdown",
   "id": "85e5e935",
   "metadata": {},
   "source": [
    "## Adding Event indicator "
   ]
  },
  {
   "cell_type": "code",
   "execution_count": 39,
   "id": "b0f6e55f",
   "metadata": {},
   "outputs": [],
   "source": [
    "data_holiday_ny_event=data_holiday_ny.withColumn('isevent',F.when(F.col('event_type')!='Normal Day',1).otherwise(0))"
   ]
  },
  {
   "cell_type": "markdown",
   "id": "75ab93a2",
   "metadata": {},
   "source": [
    "## Adding Easter "
   ]
  },
  {
   "cell_type": "code",
   "execution_count": 40,
   "id": "40afbf66",
   "metadata": {},
   "outputs": [],
   "source": [
    "data_holiday_ny_event_easter=data_holiday_ny_event\\\n",
    ".withColumn('isevent',F.when(F.col('date').isin(['2017-04-16', '2016-03-27', '2015-04-05', '2014-04-20', '2013-03-31']),1)\\\n",
    "                             .otherwise(F.col('isevent')))"
   ]
  },
  {
   "cell_type": "code",
   "execution_count": 41,
   "id": "87c1966d",
   "metadata": {},
   "outputs": [],
   "source": [
    "data_holiday_ny_event_easter=data_holiday_ny_event\\\n",
    ".withColumn('event_type',F.when(F.col('date').isin(['2017-04-16', '2016-03-27', '2015-04-05', '2014-04-20', '2013-03-31']),'Holiday')\\\n",
    "                             .otherwise(F.col('event_type')))"
   ]
  },
  {
   "cell_type": "markdown",
   "id": "84f4566a",
   "metadata": {},
   "source": [
    "## Adding closing Days "
   ]
  },
  {
   "cell_type": "markdown",
   "id": "fb924841",
   "metadata": {},
   "source": [
    "### closing days are days with sum of sales in store = 0"
   ]
  },
  {
   "cell_type": "code",
   "execution_count": 42,
   "id": "195fdb8d",
   "metadata": {},
   "outputs": [],
   "source": [
    "sums=data_holiday_ny_event_easter.select('date','store_nbr','sales').groupby(['date','store_nbr']).agg(F.sum('sales').alias('sum_sales'))"
   ]
  },
  {
   "cell_type": "code",
   "execution_count": 43,
   "id": "2dae865d",
   "metadata": {},
   "outputs": [],
   "source": [
    "from pyspark.sql.types import DoubleType\n",
    "data_holiday_ny_event_easter=data_holiday_ny_event_easter.withColumn('sales',F.col('sales').cast(DoubleType()))"
   ]
  },
  {
   "cell_type": "code",
   "execution_count": 44,
   "id": "d76b5149",
   "metadata": {},
   "outputs": [],
   "source": [
    "data_holiday_ny_event_easter_sum=data_holiday_ny_event_easter\\\n",
    ".join(sums,on=['date','store_nbr'],how='left')"
   ]
  },
  {
   "cell_type": "code",
   "execution_count": 45,
   "id": "c87a8999",
   "metadata": {},
   "outputs": [],
   "source": [
    "data_holiday_ny_event_easter_closed=data_holiday_ny_event_easter_sum\\\n",
    ".withColumn('isclosed',F.when(F.col('sum_sales')==0,1).otherwise(1)).drop('sums')"
   ]
  },
  {
   "cell_type": "code",
   "execution_count": 46,
   "id": "0e978691",
   "metadata": {},
   "outputs": [],
   "source": [
    "data_holiday_ny_event_easter_closed=data_holiday_ny_event_easter_closed\\\n",
    ".withColumn('isclosed',F.when(F.col('date')=='2017-01-01',1).otherwise(F.col('isclosed')))\\\n",
    ".withColumn('isclosed',F.when(F.col('date')>'2017-08-15',0).otherwise(F.col('isclosed')))"
   ]
  },
  {
   "cell_type": "markdown",
   "id": "2566a40a",
   "metadata": {},
   "source": [
    "## Transactions"
   ]
  },
  {
   "cell_type": "code",
   "execution_count": 47,
   "id": "4e16aa8d",
   "metadata": {},
   "outputs": [],
   "source": [
    "data_holiday_ny_event_easter_closed_transactions=data_holiday_ny_event_easter_closed\\\n",
    ".join(orig_transactions,on=['date','store_nbr'],how='left')"
   ]
  },
  {
   "cell_type": "markdown",
   "id": "3b48f4a4",
   "metadata": {},
   "source": [
    "### Closure days have 0 transactions "
   ]
  },
  {
   "cell_type": "code",
   "execution_count": 48,
   "id": "120439b8",
   "metadata": {},
   "outputs": [],
   "source": [
    "from pyspark.sql.types import DoubleType, IntegerType, DateType\n",
    "data_holiday_ny_event_easter_closed_transactions=data_holiday_ny_event_easter_closed_transactions\\\n",
    ".withColumn('transactions',F.col('transactions').cast(DoubleType()))\\\n",
    ".withColumn('transactions',F.when((F.col('transactions').isNull()) & (F.col('isclosed')==1),0).otherwise(F.col('transactions')))"
   ]
  },
  {
   "cell_type": "code",
   "execution_count": 49,
   "id": "96934f1c",
   "metadata": {},
   "outputs": [],
   "source": [
    "group_df=data_holiday_ny_event_easter_closed_transactions.groupby(['store_nbr','date']).agg(F.avg(F.col('transactions')).alias('average_transactions'))"
   ]
  },
  {
   "cell_type": "code",
   "execution_count": 50,
   "id": "879b29de",
   "metadata": {},
   "outputs": [],
   "source": [
    "data_holiday_ny_event_easter_closed_transactions=data_holiday_ny_event_easter_closed_transactions\\\n",
    ".join(group_df,on=['date','store_nbr'],how='left')"
   ]
  },
  {
   "cell_type": "markdown",
   "id": "b9fefb32",
   "metadata": {},
   "source": [
    "### Replacing with the Average transaction number for the store in case of missing values"
   ]
  },
  {
   "cell_type": "code",
   "execution_count": 51,
   "id": "6643ba29",
   "metadata": {},
   "outputs": [],
   "source": [
    "data_holiday_ny_event_easter_closed_transactions=data_holiday_ny_event_easter_closed_transactions\\\n",
    ".withColumn('transactions',F.when((F.col('transactions').isNull()) & (F.col('isclosed')==0),F.col('average_transactions')).otherwise(F.col('transactions')))"
   ]
  },
  {
   "cell_type": "code",
   "execution_count": 52,
   "id": "8fd521fa",
   "metadata": {},
   "outputs": [],
   "source": [
    "data_holiday_ny_event_easter_closed_transactions=data_holiday_ny_event_easter_closed_transactions.drop('average_transactions')"
   ]
  },
  {
   "cell_type": "code",
   "execution_count": 53,
   "id": "b88cf629",
   "metadata": {},
   "outputs": [],
   "source": [
    "data_holiday_ny_event_easter_closed_transactions=data_holiday_ny_event_easter_closed_transactions\\\n",
    ".withColumn('transferred',F.when(F.col('transferred').isNull(),0).otherwise(F.col('transferred')))"
   ]
  },
  {
   "cell_type": "markdown",
   "id": "92b33867",
   "metadata": {},
   "source": [
    "# Promos : adding sum of the promotions on the store/day level"
   ]
  },
  {
   "cell_type": "code",
   "execution_count": 54,
   "id": "bbddf05a",
   "metadata": {},
   "outputs": [],
   "source": [
    "total_promos=data_holiday_ny_event_easter_closed_transactions.groupby(['date','store_nbr']).agg(F.sum('onpromotion').alias('tot_store_day_onprom'))"
   ]
  },
  {
   "cell_type": "code",
   "execution_count": 55,
   "id": "1928fbd3",
   "metadata": {},
   "outputs": [],
   "source": [
    "data_holiday_ny_event_easter_closed_transactions_promo=data_holiday_ny_event_easter_closed_transactions\\\n",
    ".join(total_promos,on=['date','store_nbr'],how='left')"
   ]
  },
  {
   "cell_type": "code",
   "execution_count": 56,
   "id": "b82cd4e9",
   "metadata": {},
   "outputs": [],
   "source": [
    "data_holiday_ny_event_easter_closed_transactions_promo=data_holiday_ny_event_easter_closed_transactions_promo\\\n",
    ".withColumn('transactions',F.when(F.col('date')>'2017-08-15',None).otherwise(F.col('transactions')))"
   ]
  },
  {
   "cell_type": "code",
   "execution_count": 57,
   "id": "2f508362",
   "metadata": {},
   "outputs": [],
   "source": [
    "data_holiday_ny_event_easter_closed_transactions_promo.write.parquet('data_without_oil.parquet')"
   ]
  },
  {
   "cell_type": "markdown",
   "id": "a22b6b48",
   "metadata": {},
   "source": [
    "## Adding oil info "
   ]
  },
  {
   "cell_type": "code",
   "execution_count": 58,
   "id": "c4812117",
   "metadata": {},
   "outputs": [],
   "source": [
    "data_without_oil=pd.read_parquet('data_without_oil.parquet', engine='pyarrow')\n",
    "data_without_oil['date']=pd.to_datetime(data_without_oil.date)"
   ]
  },
  {
   "cell_type": "code",
   "execution_count": 59,
   "id": "d209c17c",
   "metadata": {},
   "outputs": [],
   "source": [
    "def oil_func (orig_df):\n",
    "\n",
    "    df = orig_df.copy()\n",
    "\n",
    "    # Adding missing values\n",
    "    df = df.set_index('date').resample(\"D\").mean().interpolate(limit_direction='backward').reset_index()\n",
    "\n",
    "    # Adding new features\n",
    "    df['lagoil_1_dcoilwtico'] = df['dcoilwtico'].shift(1)\n",
    "    df['lagoil_2_dcoilwtico'] = df['dcoilwtico'].shift(2)\n",
    "    df['lagoil_3_dcoilwtico'] = df['dcoilwtico'].shift(3)\n",
    "    df['lagoil_4_dcoilwtico'] = df['dcoilwtico'].shift(4)\n",
    "    df['oil_week_avg'] = df['dcoilwtico'].rolling(7).mean()\n",
    "\n",
    "    df.dropna(inplace = True)\n",
    "\n",
    "    # Merging orig_oil and final_df\n",
    "    df = data_without_oil.merge(df, on=['date'], how='left')\n",
    "\n",
    "    return df"
   ]
  },
  {
   "cell_type": "code",
   "execution_count": 60,
   "id": "69677f7b",
   "metadata": {},
   "outputs": [],
   "source": [
    "orig_oil['date']=pd.to_datetime(orig_oil.date)\n",
    "final_df = oil_func(orig_oil)"
   ]
  },
  {
   "cell_type": "code",
   "execution_count": 61,
   "id": "e26bfae4",
   "metadata": {},
   "outputs": [],
   "source": [
    "final_df[['dcoilwtico','lagoil_1_dcoilwtico','lagoil_2_dcoilwtico','lagoil_3_dcoilwtico','lagoil_4_dcoilwtico','oil_week_avg']]=final_df[['dcoilwtico','lagoil_1_dcoilwtico','lagoil_2_dcoilwtico','lagoil_3_dcoilwtico','lagoil_4_dcoilwtico','oil_week_avg']].fillna(final_df.dcoilwtico.min())"
   ]
  },
  {
   "cell_type": "code",
   "execution_count": 63,
   "id": "849f8690",
   "metadata": {},
   "outputs": [],
   "source": [
    "final_df.to_csv('prepared_data.csv',index=False)"
   ]
  }
 ],
 "metadata": {
  "kernelspec": {
   "display_name": "Python 3 (ipykernel)",
   "language": "python",
   "name": "python3"
  },
  "language_info": {
   "codemirror_mode": {
    "name": "ipython",
    "version": 3
   },
   "file_extension": ".py",
   "mimetype": "text/x-python",
   "name": "python",
   "nbconvert_exporter": "python",
   "pygments_lexer": "ipython3",
   "version": "3.9.12"
  }
 },
 "nbformat": 4,
 "nbformat_minor": 5
}
